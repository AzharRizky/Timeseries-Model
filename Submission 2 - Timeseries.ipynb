{
  "cells": [
    {
      "cell_type": "markdown",
      "id": "2920bd0e",
      "metadata": {
        "id": "2920bd0e"
      },
      "source": [
        "## Azhar Rizki Zulma\n",
        "\n",
        "Dataset: https://www.kaggle.com/robikscube/hourly-energy-consumption?select=EKPC_hourly.csv\n",
        "\n",
        "East Kentucky Power Cooperative (EKPC)\n",
        "\n",
        "estimated energy consumption in Megawatts (MW)"
      ]
    },
    {
      "cell_type": "markdown",
      "id": "c1c631ff",
      "metadata": {
        "id": "c1c631ff"
      },
      "source": [
        "### Import Library"
      ]
    },
    {
      "cell_type": "code",
      "execution_count": 1,
      "id": "ade09655",
      "metadata": {
        "id": "ade09655"
      },
      "outputs": [],
      "source": [
        "import numpy as np\n",
        "import pandas as pd\n",
        "import matplotlib.pyplot as plt\n",
        "\n",
        "import tensorflow as tf\n",
        "from tensorflow.keras.models import Sequential\n",
        "from keras.layers import Dense, LSTM\n",
        "from keras.backend import clear_session\n",
        "\n",
        "from sklearn.preprocessing import MinMaxScaler\n",
        "from sklearn.model_selection import train_test_split"
      ]
    },
    {
      "cell_type": "markdown",
      "id": "49457b42",
      "metadata": {
        "id": "49457b42"
      },
      "source": [
        "### Read Data"
      ]
    },
    {
      "cell_type": "code",
      "execution_count": 2,
      "id": "a08e5be4",
      "metadata": {
        "colab": {
          "base_uri": "https://localhost:8080/",
          "height": 424
        },
        "id": "a08e5be4",
        "outputId": "d067ffe1-799d-40f9-c1f8-0a9cc7a6ea3d"
      },
      "outputs": [
        {
          "output_type": "execute_result",
          "data": {
            "text/html": [
              "\n",
              "  <div id=\"df-db2746ba-e65a-40f7-aa8b-415a02ebf3f8\">\n",
              "    <div class=\"colab-df-container\">\n",
              "      <div>\n",
              "<style scoped>\n",
              "    .dataframe tbody tr th:only-of-type {\n",
              "        vertical-align: middle;\n",
              "    }\n",
              "\n",
              "    .dataframe tbody tr th {\n",
              "        vertical-align: top;\n",
              "    }\n",
              "\n",
              "    .dataframe thead th {\n",
              "        text-align: right;\n",
              "    }\n",
              "</style>\n",
              "<table border=\"1\" class=\"dataframe\">\n",
              "  <thead>\n",
              "    <tr style=\"text-align: right;\">\n",
              "      <th></th>\n",
              "      <th>Datetime</th>\n",
              "      <th>EKPC_MW</th>\n",
              "    </tr>\n",
              "  </thead>\n",
              "  <tbody>\n",
              "    <tr>\n",
              "      <th>0</th>\n",
              "      <td>2013-12-31 01:00:00</td>\n",
              "      <td>1861.0</td>\n",
              "    </tr>\n",
              "    <tr>\n",
              "      <th>1</th>\n",
              "      <td>2013-12-31 02:00:00</td>\n",
              "      <td>1835.0</td>\n",
              "    </tr>\n",
              "    <tr>\n",
              "      <th>2</th>\n",
              "      <td>2013-12-31 03:00:00</td>\n",
              "      <td>1841.0</td>\n",
              "    </tr>\n",
              "    <tr>\n",
              "      <th>3</th>\n",
              "      <td>2013-12-31 04:00:00</td>\n",
              "      <td>1872.0</td>\n",
              "    </tr>\n",
              "    <tr>\n",
              "      <th>4</th>\n",
              "      <td>2013-12-31 05:00:00</td>\n",
              "      <td>1934.0</td>\n",
              "    </tr>\n",
              "    <tr>\n",
              "      <th>...</th>\n",
              "      <td>...</td>\n",
              "      <td>...</td>\n",
              "    </tr>\n",
              "    <tr>\n",
              "      <th>45329</th>\n",
              "      <td>2018-01-01 20:00:00</td>\n",
              "      <td>2866.0</td>\n",
              "    </tr>\n",
              "    <tr>\n",
              "      <th>45330</th>\n",
              "      <td>2018-01-01 21:00:00</td>\n",
              "      <td>2846.0</td>\n",
              "    </tr>\n",
              "    <tr>\n",
              "      <th>45331</th>\n",
              "      <td>2018-01-01 22:00:00</td>\n",
              "      <td>2883.0</td>\n",
              "    </tr>\n",
              "    <tr>\n",
              "      <th>45332</th>\n",
              "      <td>2018-01-01 23:00:00</td>\n",
              "      <td>2880.0</td>\n",
              "    </tr>\n",
              "    <tr>\n",
              "      <th>45333</th>\n",
              "      <td>2018-01-02 00:00:00</td>\n",
              "      <td>2846.0</td>\n",
              "    </tr>\n",
              "  </tbody>\n",
              "</table>\n",
              "<p>45334 rows × 2 columns</p>\n",
              "</div>\n",
              "      <button class=\"colab-df-convert\" onclick=\"convertToInteractive('df-db2746ba-e65a-40f7-aa8b-415a02ebf3f8')\"\n",
              "              title=\"Convert this dataframe to an interactive table.\"\n",
              "              style=\"display:none;\">\n",
              "        \n",
              "  <svg xmlns=\"http://www.w3.org/2000/svg\" height=\"24px\"viewBox=\"0 0 24 24\"\n",
              "       width=\"24px\">\n",
              "    <path d=\"M0 0h24v24H0V0z\" fill=\"none\"/>\n",
              "    <path d=\"M18.56 5.44l.94 2.06.94-2.06 2.06-.94-2.06-.94-.94-2.06-.94 2.06-2.06.94zm-11 1L8.5 8.5l.94-2.06 2.06-.94-2.06-.94L8.5 2.5l-.94 2.06-2.06.94zm10 10l.94 2.06.94-2.06 2.06-.94-2.06-.94-.94-2.06-.94 2.06-2.06.94z\"/><path d=\"M17.41 7.96l-1.37-1.37c-.4-.4-.92-.59-1.43-.59-.52 0-1.04.2-1.43.59L10.3 9.45l-7.72 7.72c-.78.78-.78 2.05 0 2.83L4 21.41c.39.39.9.59 1.41.59.51 0 1.02-.2 1.41-.59l7.78-7.78 2.81-2.81c.8-.78.8-2.07 0-2.86zM5.41 20L4 18.59l7.72-7.72 1.47 1.35L5.41 20z\"/>\n",
              "  </svg>\n",
              "      </button>\n",
              "      \n",
              "  <style>\n",
              "    .colab-df-container {\n",
              "      display:flex;\n",
              "      flex-wrap:wrap;\n",
              "      gap: 12px;\n",
              "    }\n",
              "\n",
              "    .colab-df-convert {\n",
              "      background-color: #E8F0FE;\n",
              "      border: none;\n",
              "      border-radius: 50%;\n",
              "      cursor: pointer;\n",
              "      display: none;\n",
              "      fill: #1967D2;\n",
              "      height: 32px;\n",
              "      padding: 0 0 0 0;\n",
              "      width: 32px;\n",
              "    }\n",
              "\n",
              "    .colab-df-convert:hover {\n",
              "      background-color: #E2EBFA;\n",
              "      box-shadow: 0px 1px 2px rgba(60, 64, 67, 0.3), 0px 1px 3px 1px rgba(60, 64, 67, 0.15);\n",
              "      fill: #174EA6;\n",
              "    }\n",
              "\n",
              "    [theme=dark] .colab-df-convert {\n",
              "      background-color: #3B4455;\n",
              "      fill: #D2E3FC;\n",
              "    }\n",
              "\n",
              "    [theme=dark] .colab-df-convert:hover {\n",
              "      background-color: #434B5C;\n",
              "      box-shadow: 0px 1px 3px 1px rgba(0, 0, 0, 0.15);\n",
              "      filter: drop-shadow(0px 1px 2px rgba(0, 0, 0, 0.3));\n",
              "      fill: #FFFFFF;\n",
              "    }\n",
              "  </style>\n",
              "\n",
              "      <script>\n",
              "        const buttonEl =\n",
              "          document.querySelector('#df-db2746ba-e65a-40f7-aa8b-415a02ebf3f8 button.colab-df-convert');\n",
              "        buttonEl.style.display =\n",
              "          google.colab.kernel.accessAllowed ? 'block' : 'none';\n",
              "\n",
              "        async function convertToInteractive(key) {\n",
              "          const element = document.querySelector('#df-db2746ba-e65a-40f7-aa8b-415a02ebf3f8');\n",
              "          const dataTable =\n",
              "            await google.colab.kernel.invokeFunction('convertToInteractive',\n",
              "                                                     [key], {});\n",
              "          if (!dataTable) return;\n",
              "\n",
              "          const docLinkHtml = 'Like what you see? Visit the ' +\n",
              "            '<a target=\"_blank\" href=https://colab.research.google.com/notebooks/data_table.ipynb>data table notebook</a>'\n",
              "            + ' to learn more about interactive tables.';\n",
              "          element.innerHTML = '';\n",
              "          dataTable['output_type'] = 'display_data';\n",
              "          await google.colab.output.renderOutput(dataTable, element);\n",
              "          const docLink = document.createElement('div');\n",
              "          docLink.innerHTML = docLinkHtml;\n",
              "          element.appendChild(docLink);\n",
              "        }\n",
              "      </script>\n",
              "    </div>\n",
              "  </div>\n",
              "  "
            ],
            "text/plain": [
              "                  Datetime  EKPC_MW\n",
              "0      2013-12-31 01:00:00   1861.0\n",
              "1      2013-12-31 02:00:00   1835.0\n",
              "2      2013-12-31 03:00:00   1841.0\n",
              "3      2013-12-31 04:00:00   1872.0\n",
              "4      2013-12-31 05:00:00   1934.0\n",
              "...                    ...      ...\n",
              "45329  2018-01-01 20:00:00   2866.0\n",
              "45330  2018-01-01 21:00:00   2846.0\n",
              "45331  2018-01-01 22:00:00   2883.0\n",
              "45332  2018-01-01 23:00:00   2880.0\n",
              "45333  2018-01-02 00:00:00   2846.0\n",
              "\n",
              "[45334 rows x 2 columns]"
            ]
          },
          "metadata": {},
          "execution_count": 2
        }
      ],
      "source": [
        "df = pd.read_csv('/EKPC_hourly.csv')\n",
        "df"
      ]
    },
    {
      "cell_type": "code",
      "execution_count": 3,
      "id": "5df6deff",
      "metadata": {
        "colab": {
          "base_uri": "https://localhost:8080/"
        },
        "id": "5df6deff",
        "outputId": "4d628b97-59ee-4d61-832d-f9b061e6133d"
      },
      "outputs": [
        {
          "output_type": "stream",
          "name": "stdout",
          "text": [
            "<class 'pandas.core.frame.DataFrame'>\n",
            "RangeIndex: 45334 entries, 0 to 45333\n",
            "Data columns (total 2 columns):\n",
            " #   Column    Non-Null Count  Dtype  \n",
            "---  ------    --------------  -----  \n",
            " 0   Datetime  45334 non-null  object \n",
            " 1   EKPC_MW   45334 non-null  float64\n",
            "dtypes: float64(1), object(1)\n",
            "memory usage: 708.5+ KB\n"
          ]
        }
      ],
      "source": [
        "df.info()"
      ]
    },
    {
      "cell_type": "code",
      "execution_count": 4,
      "id": "83647fa9",
      "metadata": {
        "colab": {
          "base_uri": "https://localhost:8080/",
          "height": 206
        },
        "id": "83647fa9",
        "outputId": "003a73f5-df6f-498d-f150-e7213da5786e"
      },
      "outputs": [
        {
          "output_type": "execute_result",
          "data": {
            "text/html": [
              "\n",
              "  <div id=\"df-6423a93d-ef35-4a5d-b112-d3851ada5999\">\n",
              "    <div class=\"colab-df-container\">\n",
              "      <div>\n",
              "<style scoped>\n",
              "    .dataframe tbody tr th:only-of-type {\n",
              "        vertical-align: middle;\n",
              "    }\n",
              "\n",
              "    .dataframe tbody tr th {\n",
              "        vertical-align: top;\n",
              "    }\n",
              "\n",
              "    .dataframe thead th {\n",
              "        text-align: right;\n",
              "    }\n",
              "</style>\n",
              "<table border=\"1\" class=\"dataframe\">\n",
              "  <thead>\n",
              "    <tr style=\"text-align: right;\">\n",
              "      <th></th>\n",
              "      <th>Datetime</th>\n",
              "      <th>EKPC_MW</th>\n",
              "      <th>date</th>\n",
              "    </tr>\n",
              "  </thead>\n",
              "  <tbody>\n",
              "    <tr>\n",
              "      <th>0</th>\n",
              "      <td>2013-12-31 01:00:00</td>\n",
              "      <td>1861.0</td>\n",
              "      <td>2013-12-31 01:00:00</td>\n",
              "    </tr>\n",
              "    <tr>\n",
              "      <th>1</th>\n",
              "      <td>2013-12-31 02:00:00</td>\n",
              "      <td>1835.0</td>\n",
              "      <td>2013-12-31 02:00:00</td>\n",
              "    </tr>\n",
              "    <tr>\n",
              "      <th>2</th>\n",
              "      <td>2013-12-31 03:00:00</td>\n",
              "      <td>1841.0</td>\n",
              "      <td>2013-12-31 03:00:00</td>\n",
              "    </tr>\n",
              "    <tr>\n",
              "      <th>3</th>\n",
              "      <td>2013-12-31 04:00:00</td>\n",
              "      <td>1872.0</td>\n",
              "      <td>2013-12-31 04:00:00</td>\n",
              "    </tr>\n",
              "    <tr>\n",
              "      <th>4</th>\n",
              "      <td>2013-12-31 05:00:00</td>\n",
              "      <td>1934.0</td>\n",
              "      <td>2013-12-31 05:00:00</td>\n",
              "    </tr>\n",
              "  </tbody>\n",
              "</table>\n",
              "</div>\n",
              "      <button class=\"colab-df-convert\" onclick=\"convertToInteractive('df-6423a93d-ef35-4a5d-b112-d3851ada5999')\"\n",
              "              title=\"Convert this dataframe to an interactive table.\"\n",
              "              style=\"display:none;\">\n",
              "        \n",
              "  <svg xmlns=\"http://www.w3.org/2000/svg\" height=\"24px\"viewBox=\"0 0 24 24\"\n",
              "       width=\"24px\">\n",
              "    <path d=\"M0 0h24v24H0V0z\" fill=\"none\"/>\n",
              "    <path d=\"M18.56 5.44l.94 2.06.94-2.06 2.06-.94-2.06-.94-.94-2.06-.94 2.06-2.06.94zm-11 1L8.5 8.5l.94-2.06 2.06-.94-2.06-.94L8.5 2.5l-.94 2.06-2.06.94zm10 10l.94 2.06.94-2.06 2.06-.94-2.06-.94-.94-2.06-.94 2.06-2.06.94z\"/><path d=\"M17.41 7.96l-1.37-1.37c-.4-.4-.92-.59-1.43-.59-.52 0-1.04.2-1.43.59L10.3 9.45l-7.72 7.72c-.78.78-.78 2.05 0 2.83L4 21.41c.39.39.9.59 1.41.59.51 0 1.02-.2 1.41-.59l7.78-7.78 2.81-2.81c.8-.78.8-2.07 0-2.86zM5.41 20L4 18.59l7.72-7.72 1.47 1.35L5.41 20z\"/>\n",
              "  </svg>\n",
              "      </button>\n",
              "      \n",
              "  <style>\n",
              "    .colab-df-container {\n",
              "      display:flex;\n",
              "      flex-wrap:wrap;\n",
              "      gap: 12px;\n",
              "    }\n",
              "\n",
              "    .colab-df-convert {\n",
              "      background-color: #E8F0FE;\n",
              "      border: none;\n",
              "      border-radius: 50%;\n",
              "      cursor: pointer;\n",
              "      display: none;\n",
              "      fill: #1967D2;\n",
              "      height: 32px;\n",
              "      padding: 0 0 0 0;\n",
              "      width: 32px;\n",
              "    }\n",
              "\n",
              "    .colab-df-convert:hover {\n",
              "      background-color: #E2EBFA;\n",
              "      box-shadow: 0px 1px 2px rgba(60, 64, 67, 0.3), 0px 1px 3px 1px rgba(60, 64, 67, 0.15);\n",
              "      fill: #174EA6;\n",
              "    }\n",
              "\n",
              "    [theme=dark] .colab-df-convert {\n",
              "      background-color: #3B4455;\n",
              "      fill: #D2E3FC;\n",
              "    }\n",
              "\n",
              "    [theme=dark] .colab-df-convert:hover {\n",
              "      background-color: #434B5C;\n",
              "      box-shadow: 0px 1px 3px 1px rgba(0, 0, 0, 0.15);\n",
              "      filter: drop-shadow(0px 1px 2px rgba(0, 0, 0, 0.3));\n",
              "      fill: #FFFFFF;\n",
              "    }\n",
              "  </style>\n",
              "\n",
              "      <script>\n",
              "        const buttonEl =\n",
              "          document.querySelector('#df-6423a93d-ef35-4a5d-b112-d3851ada5999 button.colab-df-convert');\n",
              "        buttonEl.style.display =\n",
              "          google.colab.kernel.accessAllowed ? 'block' : 'none';\n",
              "\n",
              "        async function convertToInteractive(key) {\n",
              "          const element = document.querySelector('#df-6423a93d-ef35-4a5d-b112-d3851ada5999');\n",
              "          const dataTable =\n",
              "            await google.colab.kernel.invokeFunction('convertToInteractive',\n",
              "                                                     [key], {});\n",
              "          if (!dataTable) return;\n",
              "\n",
              "          const docLinkHtml = 'Like what you see? Visit the ' +\n",
              "            '<a target=\"_blank\" href=https://colab.research.google.com/notebooks/data_table.ipynb>data table notebook</a>'\n",
              "            + ' to learn more about interactive tables.';\n",
              "          element.innerHTML = '';\n",
              "          dataTable['output_type'] = 'display_data';\n",
              "          await google.colab.output.renderOutput(dataTable, element);\n",
              "          const docLink = document.createElement('div');\n",
              "          docLink.innerHTML = docLinkHtml;\n",
              "          element.appendChild(docLink);\n",
              "        }\n",
              "      </script>\n",
              "    </div>\n",
              "  </div>\n",
              "  "
            ],
            "text/plain": [
              "              Datetime  EKPC_MW                date\n",
              "0  2013-12-31 01:00:00   1861.0 2013-12-31 01:00:00\n",
              "1  2013-12-31 02:00:00   1835.0 2013-12-31 02:00:00\n",
              "2  2013-12-31 03:00:00   1841.0 2013-12-31 03:00:00\n",
              "3  2013-12-31 04:00:00   1872.0 2013-12-31 04:00:00\n",
              "4  2013-12-31 05:00:00   1934.0 2013-12-31 05:00:00"
            ]
          },
          "metadata": {},
          "execution_count": 4
        }
      ],
      "source": [
        "df['date']=pd.to_datetime(df['Datetime'])\n",
        "df.head()"
      ]
    },
    {
      "cell_type": "markdown",
      "id": "5df93212",
      "metadata": {
        "id": "5df93212"
      },
      "source": [
        "Create new dataframe with only 2 colum (date & value)"
      ]
    },
    {
      "cell_type": "code",
      "execution_count": 5,
      "id": "76e928d5",
      "metadata": {
        "colab": {
          "base_uri": "https://localhost:8080/",
          "height": 238
        },
        "id": "76e928d5",
        "outputId": "962adf40-677b-4df0-e613-82ba94de81e5"
      },
      "outputs": [
        {
          "output_type": "execute_result",
          "data": {
            "text/html": [
              "\n",
              "  <div id=\"df-63ee4a31-204d-420d-8fac-bbdf2adf9b9c\">\n",
              "    <div class=\"colab-df-container\">\n",
              "      <div>\n",
              "<style scoped>\n",
              "    .dataframe tbody tr th:only-of-type {\n",
              "        vertical-align: middle;\n",
              "    }\n",
              "\n",
              "    .dataframe tbody tr th {\n",
              "        vertical-align: top;\n",
              "    }\n",
              "\n",
              "    .dataframe thead th {\n",
              "        text-align: right;\n",
              "    }\n",
              "</style>\n",
              "<table border=\"1\" class=\"dataframe\">\n",
              "  <thead>\n",
              "    <tr style=\"text-align: right;\">\n",
              "      <th></th>\n",
              "      <th>val</th>\n",
              "    </tr>\n",
              "    <tr>\n",
              "      <th>date</th>\n",
              "      <th></th>\n",
              "    </tr>\n",
              "  </thead>\n",
              "  <tbody>\n",
              "    <tr>\n",
              "      <th>2018-08-03 00:00:00</th>\n",
              "      <td>1448.0</td>\n",
              "    </tr>\n",
              "    <tr>\n",
              "      <th>2018-08-02 23:00:00</th>\n",
              "      <td>1619.0</td>\n",
              "    </tr>\n",
              "    <tr>\n",
              "      <th>2018-08-02 22:00:00</th>\n",
              "      <td>1756.0</td>\n",
              "    </tr>\n",
              "    <tr>\n",
              "      <th>2018-08-02 21:00:00</th>\n",
              "      <td>1769.0</td>\n",
              "    </tr>\n",
              "    <tr>\n",
              "      <th>2018-08-02 20:00:00</th>\n",
              "      <td>1815.0</td>\n",
              "    </tr>\n",
              "  </tbody>\n",
              "</table>\n",
              "</div>\n",
              "      <button class=\"colab-df-convert\" onclick=\"convertToInteractive('df-63ee4a31-204d-420d-8fac-bbdf2adf9b9c')\"\n",
              "              title=\"Convert this dataframe to an interactive table.\"\n",
              "              style=\"display:none;\">\n",
              "        \n",
              "  <svg xmlns=\"http://www.w3.org/2000/svg\" height=\"24px\"viewBox=\"0 0 24 24\"\n",
              "       width=\"24px\">\n",
              "    <path d=\"M0 0h24v24H0V0z\" fill=\"none\"/>\n",
              "    <path d=\"M18.56 5.44l.94 2.06.94-2.06 2.06-.94-2.06-.94-.94-2.06-.94 2.06-2.06.94zm-11 1L8.5 8.5l.94-2.06 2.06-.94-2.06-.94L8.5 2.5l-.94 2.06-2.06.94zm10 10l.94 2.06.94-2.06 2.06-.94-2.06-.94-.94-2.06-.94 2.06-2.06.94z\"/><path d=\"M17.41 7.96l-1.37-1.37c-.4-.4-.92-.59-1.43-.59-.52 0-1.04.2-1.43.59L10.3 9.45l-7.72 7.72c-.78.78-.78 2.05 0 2.83L4 21.41c.39.39.9.59 1.41.59.51 0 1.02-.2 1.41-.59l7.78-7.78 2.81-2.81c.8-.78.8-2.07 0-2.86zM5.41 20L4 18.59l7.72-7.72 1.47 1.35L5.41 20z\"/>\n",
              "  </svg>\n",
              "      </button>\n",
              "      \n",
              "  <style>\n",
              "    .colab-df-container {\n",
              "      display:flex;\n",
              "      flex-wrap:wrap;\n",
              "      gap: 12px;\n",
              "    }\n",
              "\n",
              "    .colab-df-convert {\n",
              "      background-color: #E8F0FE;\n",
              "      border: none;\n",
              "      border-radius: 50%;\n",
              "      cursor: pointer;\n",
              "      display: none;\n",
              "      fill: #1967D2;\n",
              "      height: 32px;\n",
              "      padding: 0 0 0 0;\n",
              "      width: 32px;\n",
              "    }\n",
              "\n",
              "    .colab-df-convert:hover {\n",
              "      background-color: #E2EBFA;\n",
              "      box-shadow: 0px 1px 2px rgba(60, 64, 67, 0.3), 0px 1px 3px 1px rgba(60, 64, 67, 0.15);\n",
              "      fill: #174EA6;\n",
              "    }\n",
              "\n",
              "    [theme=dark] .colab-df-convert {\n",
              "      background-color: #3B4455;\n",
              "      fill: #D2E3FC;\n",
              "    }\n",
              "\n",
              "    [theme=dark] .colab-df-convert:hover {\n",
              "      background-color: #434B5C;\n",
              "      box-shadow: 0px 1px 3px 1px rgba(0, 0, 0, 0.15);\n",
              "      filter: drop-shadow(0px 1px 2px rgba(0, 0, 0, 0.3));\n",
              "      fill: #FFFFFF;\n",
              "    }\n",
              "  </style>\n",
              "\n",
              "      <script>\n",
              "        const buttonEl =\n",
              "          document.querySelector('#df-63ee4a31-204d-420d-8fac-bbdf2adf9b9c button.colab-df-convert');\n",
              "        buttonEl.style.display =\n",
              "          google.colab.kernel.accessAllowed ? 'block' : 'none';\n",
              "\n",
              "        async function convertToInteractive(key) {\n",
              "          const element = document.querySelector('#df-63ee4a31-204d-420d-8fac-bbdf2adf9b9c');\n",
              "          const dataTable =\n",
              "            await google.colab.kernel.invokeFunction('convertToInteractive',\n",
              "                                                     [key], {});\n",
              "          if (!dataTable) return;\n",
              "\n",
              "          const docLinkHtml = 'Like what you see? Visit the ' +\n",
              "            '<a target=\"_blank\" href=https://colab.research.google.com/notebooks/data_table.ipynb>data table notebook</a>'\n",
              "            + ' to learn more about interactive tables.';\n",
              "          element.innerHTML = '';\n",
              "          dataTable['output_type'] = 'display_data';\n",
              "          await google.colab.output.renderOutput(dataTable, element);\n",
              "          const docLink = document.createElement('div');\n",
              "          docLink.innerHTML = docLinkHtml;\n",
              "          element.appendChild(docLink);\n",
              "        }\n",
              "      </script>\n",
              "    </div>\n",
              "  </div>\n",
              "  "
            ],
            "text/plain": [
              "                        val\n",
              "date                       \n",
              "2018-08-03 00:00:00  1448.0\n",
              "2018-08-02 23:00:00  1619.0\n",
              "2018-08-02 22:00:00  1756.0\n",
              "2018-08-02 21:00:00  1769.0\n",
              "2018-08-02 20:00:00  1815.0"
            ]
          },
          "metadata": {},
          "execution_count": 5
        }
      ],
      "source": [
        "energy=df[['date','EKPC_MW']].copy()\n",
        "energy['val'] = energy['EKPC_MW']\n",
        "energy = energy.drop('EKPC_MW', axis=1)\n",
        "energy.sort_values(by=['date'], inplace=True, ascending=False)\n",
        "energy.set_index('date', inplace= True)\n",
        "energy.head()"
      ]
    },
    {
      "cell_type": "markdown",
      "id": "f4b08d40",
      "metadata": {
        "id": "f4b08d40"
      },
      "source": [
        "### Timeseries Plot"
      ]
    },
    {
      "cell_type": "code",
      "execution_count": 6,
      "id": "b2e86fef",
      "metadata": {
        "colab": {
          "base_uri": "https://localhost:8080/",
          "height": 513
        },
        "id": "b2e86fef",
        "outputId": "2f4a5491-eecc-4f74-c6a1-2184682ad6c2"
      },
      "outputs": [
        {
          "output_type": "display_data",
          "data": {
            "image/png": "[encoded data removed]",
            "text/plain": [
              "<Figure size 1440x576 with 1 Axes>"
            ]
          },
          "metadata": {
            "needs_background": "light"
          }
        }
      ],
      "source": [
        "plt.figure(figsize=(20,8))\n",
        "plt.plot(energy)\n",
        "plt.title('Timeseries Of Total Energy Using')\n",
        "plt.xlabel('Datetime')\n",
        "plt.ylabel('Energy')\n",
        "plt.show()"
      ]
    },
    {
      "cell_type": "markdown",
      "id": "f72eecff",
      "metadata": {
        "id": "f72eecff"
      },
      "source": [
        "### Modelling"
      ]
    },
    {
      "cell_type": "code",
      "execution_count": 7,
      "id": "29370d5a",
      "metadata": {
        "id": "29370d5a"
      },
      "outputs": [],
      "source": [
        "date = df['date'].values\n",
        "val = energy['val'].values"
      ]
    },
    {
      "cell_type": "code",
      "execution_count": 8,
      "id": "ccc8de3b",
      "metadata": {
        "id": "ccc8de3b"
      },
      "outputs": [],
      "source": [
        "def windowed_dataset(series, window_size, batch_size, shuffle_buffer):\n",
        "    series = tf.expand_dims(series, axis=-1)\n",
        "    ds = tf.data.Dataset.from_tensor_slices(series)\n",
        "    ds = ds.window(window_size + 1, shift=1, drop_remainder=True)\n",
        "    ds = ds.flat_map(lambda w: w.batch(window_size + 1))\n",
        "    ds = ds.shuffle(shuffle_buffer)\n",
        "    ds = ds.map(lambda w: (w[:-1], w[-1:]))\n",
        "    return ds.batch(batch_size).prefetch(1)"
      ]
    },
    {
      "cell_type": "code",
      "execution_count": 9,
      "id": "d8dce99a",
      "metadata": {
        "colab": {
          "base_uri": "https://localhost:8080/"
        },
        "id": "d8dce99a",
        "outputId": "61ccd51e-eb92-4135-91df-83d82995656f"
      },
      "outputs": [
        {
          "output_type": "stream",
          "name": "stdout",
          "text": [
            "36267 9067\n"
          ]
        }
      ],
      "source": [
        "x_train, x_test, y_train, y_test = train_test_split(val, date, test_size = 0.2, random_state = 0 , shuffle=False)\n",
        "print(len(x_train), len(x_test))"
      ]
    },
    {
      "cell_type": "code",
      "execution_count": 10,
      "id": "ec25fbc7",
      "metadata": {
        "id": "ec25fbc7"
      },
      "outputs": [],
      "source": [
        "data_x_train = windowed_dataset(x_train, window_size=60, batch_size=100, shuffle_buffer=5000)\n",
        "data_x_test = windowed_dataset(x_test, window_size=60, batch_size=100, shuffle_buffer=5000)"
      ]
    },
    {
      "cell_type": "code",
      "execution_count": 11,
      "id": "95f14d87",
      "metadata": {
        "id": "95f14d87"
      },
      "outputs": [],
      "source": [
        "model = tf.keras.models.Sequential([\n",
        "  tf.keras.layers.Conv1D(filters=32, kernel_size=5, strides=1, padding=\"causal\", activation=\"relu\", input_shape=[None, 1]),\n",
        "  tf.keras.layers.LSTM(64, return_sequences=True),\n",
        "  tf.keras.layers.LSTM(64, return_sequences=True),\n",
        "  tf.keras.layers.Dense(30, activation=\"relu\"),\n",
        "  tf.keras.layers.Dense(10, activation=\"relu\"),\n",
        "  tf.keras.layers.Dense(1),\n",
        "  tf.keras.layers.Lambda(lambda x: x * 400)\n",
        "])\n",
        "\n",
        "lr_schedule = tf.keras.callbacks.LearningRateScheduler(lambda epoch: 1e-8 * 10**(epoch / 20))\n",
        "optimizer = tf.keras.optimizers.SGD(learning_rate=1e-8, momentum=0.9)\n",
        "model.compile(loss=tf.keras.losses.Huber(), optimizer=optimizer, metrics=[\"mae\"])"
      ]
    },
    {
      "cell_type": "markdown",
      "id": "1640d8db",
      "metadata": {
        "id": "1640d8db"
      },
      "source": [
        "**Min & Max Value**"
      ]
    },
    {
      "cell_type": "code",
      "execution_count": 12,
      "id": "8c7e74bb",
      "metadata": {
        "colab": {
          "base_uri": "https://localhost:8080/"
        },
        "id": "8c7e74bb",
        "outputId": "8c249e33-b69e-4095-b778-18ae518f83bf"
      },
      "outputs": [
        {
          "output_type": "stream",
          "name": "stdout",
          "text": [
            "Min Value : \n",
            "514.0\n",
            "Max value : \n",
            "3490.0\n"
          ]
        }
      ],
      "source": [
        "min = energy['val'].min()\n",
        "print('Min Value : ')\n",
        "print(min)\n",
        "\n",
        "max = energy['val'].max()\n",
        "print('Max value : ' )\n",
        "print(max)"
      ]
    },
    {
      "cell_type": "code",
      "execution_count": 13,
      "id": "bb6e38d8",
      "metadata": {
        "colab": {
          "base_uri": "https://localhost:8080/"
        },
        "id": "bb6e38d8",
        "outputId": "30e98d48-2256-4b19-f76d-dff582735c73"
      },
      "outputs": [
        {
          "output_type": "stream",
          "name": "stdout",
          "text": [
            "297.6\n"
          ]
        }
      ],
      "source": [
        "x = (max - min) * (10/100)\n",
        "print(x)"
      ]
    },
    {
      "cell_type": "code",
      "execution_count": 14,
      "id": "80e2e753",
      "metadata": {
        "id": "80e2e753"
      },
      "outputs": [],
      "source": [
        "class myCallback(tf.keras.callbacks.Callback):\n",
        "  def on_epoch_end(self, epoch, logs={}):\n",
        "    if((logs.get('mae')< x) and (logs.get('val_mae')< x)):\n",
        "      self.model.stop_training = True\n",
        "      print(\"\\nMAE of the model < 10% of data scale\")\n",
        "callbacks = myCallback()"
      ]
    },
    {
      "cell_type": "code",
      "execution_count": 15,
      "id": "8b952b91",
      "metadata": {
        "colab": {
          "base_uri": "https://localhost:8080/"
        },
        "id": "8b952b91",
        "outputId": "23c7c68b-afe1-498e-ce7a-bde6e37c00cf"
      },
      "outputs": [
        {
          "output_type": "stream",
          "name": "stdout",
          "text": [
            "Epoch 1/500\n",
            "363/363 [==============================] - 50s 103ms/step - loss: 1336.9884 - mae: 1337.4876 - val_loss: 1283.1686 - val_mae: 1283.6685\n",
            "Epoch 2/500\n",
            "363/363 [==============================] - 18s 46ms/step - loss: 1198.5083 - mae: 1199.0080 - val_loss: 1169.9294 - val_mae: 1170.4298\n",
            "Epoch 3/500\n",
            "363/363 [==============================] - 19s 50ms/step - loss: 1090.1339 - mae: 1090.6343 - val_loss: 1060.7694 - val_mae: 1061.2694\n",
            "Epoch 4/500\n",
            "363/363 [==============================] - 21s 54ms/step - loss: 976.3504 - mae: 976.8502 - val_loss: 941.9280 - val_mae: 942.4281\n",
            "Epoch 5/500\n",
            "363/363 [==============================] - 18s 46ms/step - loss: 851.1517 - mae: 851.6521 - val_loss: 810.5733 - val_mae: 811.0733\n",
            "Epoch 6/500\n",
            "363/363 [==============================] - 18s 46ms/step - loss: 711.3888 - mae: 711.8887 - val_loss: 663.8822 - val_mae: 664.3821\n",
            "Epoch 7/500\n",
            "363/363 [==============================] - 18s 47ms/step - loss: 563.8914 - mae: 564.3912 - val_loss: 526.9086 - val_mae: 527.4084\n",
            "Epoch 8/500\n",
            "363/363 [==============================] - 18s 46ms/step - loss: 446.4377 - mae: 446.9377 - val_loss: 438.8315 - val_mae: 439.3310\n",
            "Epoch 9/500\n",
            "363/363 [==============================] - 18s 46ms/step - loss: 386.4189 - mae: 386.9186 - val_loss: 404.2608 - val_mae: 404.7605\n",
            "Epoch 10/500\n",
            "363/363 [==============================] - 18s 46ms/step - loss: 365.0803 - mae: 365.5800 - val_loss: 391.0872 - val_mae: 391.5870\n",
            "Epoch 11/500\n",
            "363/363 [==============================] - 18s 46ms/step - loss: 356.4211 - mae: 356.9207 - val_loss: 384.5641 - val_mae: 385.0640\n",
            "Epoch 12/500\n",
            "363/363 [==============================] - 18s 46ms/step - loss: 352.6544 - mae: 353.1541 - val_loss: 381.6870 - val_mae: 382.1867\n",
            "Epoch 13/500\n",
            "363/363 [==============================] - 20s 53ms/step - loss: 350.7921 - mae: 351.2918 - val_loss: 379.8970 - val_mae: 380.3968\n",
            "Epoch 14/500\n",
            "363/363 [==============================] - 18s 46ms/step - loss: 349.3696 - mae: 349.8691 - val_loss: 378.3078 - val_mae: 378.8075\n",
            "Epoch 15/500\n",
            "363/363 [==============================] - 17s 46ms/step - loss: 347.9920 - mae: 348.4917 - val_loss: 376.9105 - val_mae: 377.4102\n",
            "Epoch 16/500\n",
            "363/363 [==============================] - 18s 46ms/step - loss: 346.8389 - mae: 347.3387 - val_loss: 375.7108 - val_mae: 376.2104\n",
            "Epoch 17/500\n",
            "363/363 [==============================] - 18s 46ms/step - loss: 345.8086 - mae: 346.3084 - val_loss: 374.6714 - val_mae: 375.1712\n",
            "Epoch 18/500\n",
            "363/363 [==============================] - 18s 46ms/step - loss: 344.8955 - mae: 345.3951 - val_loss: 373.6930 - val_mae: 374.1928\n",
            "Epoch 19/500\n",
            "363/363 [==============================] - 18s 46ms/step - loss: 344.0150 - mae: 344.5146 - val_loss: 372.7728 - val_mae: 373.2725\n",
            "Epoch 20/500\n",
            "363/363 [==============================] - 18s 46ms/step - loss: 343.1326 - mae: 343.6322 - val_loss: 371.9001 - val_mae: 372.3998\n",
            "Epoch 21/500\n",
            "363/363 [==============================] - 18s 46ms/step - loss: 342.2830 - mae: 342.7828 - val_loss: 371.0297 - val_mae: 371.5294\n",
            "Epoch 22/500\n",
            "363/363 [==============================] - 18s 46ms/step - loss: 341.4624 - mae: 341.9621 - val_loss: 370.1554 - val_mae: 370.6551\n",
            "Epoch 23/500\n",
            "363/363 [==============================] - 18s 46ms/step - loss: 340.6020 - mae: 341.1018 - val_loss: 369.2808 - val_mae: 369.7806\n",
            "Epoch 24/500\n",
            "363/363 [==============================] - 18s 46ms/step - loss: 339.7461 - mae: 340.2457 - val_loss: 368.4118 - val_mae: 368.9115\n",
            "Epoch 25/500\n",
            "363/363 [==============================] - 18s 46ms/step - loss: 338.8317 - mae: 339.3313 - val_loss: 367.3981 - val_mae: 367.8978\n",
            "Epoch 26/500\n",
            "363/363 [==============================] - 18s 46ms/step - loss: 337.7468 - mae: 338.2465 - val_loss: 366.2989 - val_mae: 366.7987\n",
            "Epoch 27/500\n",
            "363/363 [==============================] - 18s 46ms/step - loss: 336.8954 - mae: 337.3951 - val_loss: 365.4056 - val_mae: 365.9053\n",
            "Epoch 28/500\n",
            "363/363 [==============================] - 18s 46ms/step - loss: 335.9505 - mae: 336.4503 - val_loss: 364.3656 - val_mae: 364.8652\n",
            "Epoch 29/500\n",
            "363/363 [==============================] - 18s 46ms/step - loss: 334.9551 - mae: 335.4549 - val_loss: 363.2513 - val_mae: 363.7511\n",
            "Epoch 30/500\n",
            "363/363 [==============================] - 18s 46ms/step - loss: 333.9526 - mae: 334.4524 - val_loss: 362.1668 - val_mae: 362.6666\n",
            "Epoch 31/500\n",
            "363/363 [==============================] - 18s 46ms/step - loss: 331.1250 - mae: 331.6248 - val_loss: 347.8943 - val_mae: 348.3939\n",
            "Epoch 32/500\n",
            "363/363 [==============================] - 18s 46ms/step - loss: 317.4765 - mae: 317.9761 - val_loss: 343.1202 - val_mae: 343.6199\n",
            "Epoch 33/500\n",
            "363/363 [==============================] - 18s 46ms/step - loss: 314.7157 - mae: 315.2154 - val_loss: 341.3289 - val_mae: 341.8285\n",
            "Epoch 34/500\n",
            "363/363 [==============================] - 17s 46ms/step - loss: 313.7566 - mae: 314.2563 - val_loss: 339.9418 - val_mae: 340.4415\n",
            "Epoch 35/500\n",
            "363/363 [==============================] - 18s 46ms/step - loss: 311.2663 - mae: 311.7660 - val_loss: 338.7814 - val_mae: 339.2811\n",
            "Epoch 36/500\n",
            "363/363 [==============================] - 18s 46ms/step - loss: 311.6949 - mae: 312.1945 - val_loss: 337.9187 - val_mae: 338.4184\n",
            "Epoch 37/500\n",
            "363/363 [==============================] - 18s 46ms/step - loss: 309.3489 - mae: 309.8486 - val_loss: 337.4471 - val_mae: 337.9468\n",
            "Epoch 38/500\n",
            "363/363 [==============================] - 18s 46ms/step - loss: 309.2918 - mae: 309.7915 - val_loss: 335.7869 - val_mae: 336.2866\n",
            "Epoch 39/500\n",
            "363/363 [==============================] - 20s 53ms/step - loss: 308.0143 - mae: 308.5138 - val_loss: 336.6898 - val_mae: 337.1893\n",
            "Epoch 40/500\n",
            "363/363 [==============================] - 17s 46ms/step - loss: 308.9243 - mae: 309.4238 - val_loss: 334.8235 - val_mae: 335.3231\n",
            "Epoch 41/500\n",
            "363/363 [==============================] - 18s 46ms/step - loss: 306.7721 - mae: 307.2718 - val_loss: 334.6647 - val_mae: 335.1644\n",
            "Epoch 42/500\n",
            "363/363 [==============================] - 18s 47ms/step - loss: 306.8624 - mae: 307.3621 - val_loss: 334.0164 - val_mae: 334.5161\n",
            "Epoch 43/500\n",
            "363/363 [==============================] - 18s 46ms/step - loss: 303.4462 - mae: 303.9460 - val_loss: 325.7821 - val_mae: 326.2817\n",
            "Epoch 44/500\n",
            "363/363 [==============================] - 18s 46ms/step - loss: 299.8650 - mae: 300.3647 - val_loss: 325.8531 - val_mae: 326.3527\n",
            "Epoch 45/500\n",
            "363/363 [==============================] - 17s 46ms/step - loss: 299.3438 - mae: 299.8435 - val_loss: 324.3012 - val_mae: 324.8009\n",
            "Epoch 46/500\n",
            "363/363 [==============================] - 18s 46ms/step - loss: 297.8726 - mae: 298.3723 - val_loss: 323.3082 - val_mae: 323.8078\n",
            "Epoch 47/500\n",
            "363/363 [==============================] - 18s 46ms/step - loss: 297.4966 - mae: 297.9961 - val_loss: 322.2894 - val_mae: 322.7891\n",
            "Epoch 48/500\n",
            "363/363 [==============================] - 18s 46ms/step - loss: 297.0903 - mae: 297.5897 - val_loss: 320.8520 - val_mae: 321.3518\n",
            "Epoch 49/500\n",
            "363/363 [==============================] - 18s 46ms/step - loss: 296.1977 - mae: 296.6976 - val_loss: 319.9422 - val_mae: 320.4419\n",
            "Epoch 50/500\n",
            "363/363 [==============================] - 18s 46ms/step - loss: 295.7917 - mae: 296.2913 - val_loss: 320.3622 - val_mae: 320.8618\n",
            "Epoch 51/500\n",
            "363/363 [==============================] - 17s 46ms/step - loss: 294.9993 - mae: 295.4989 - val_loss: 318.8162 - val_mae: 319.3159\n",
            "Epoch 52/500\n",
            "363/363 [==============================] - 17s 46ms/step - loss: 293.4462 - mae: 293.9458 - val_loss: 317.9492 - val_mae: 318.4487\n",
            "Epoch 53/500\n",
            "363/363 [==============================] - 18s 46ms/step - loss: 293.5273 - mae: 294.0269 - val_loss: 317.1517 - val_mae: 317.6514\n",
            "Epoch 54/500\n",
            "363/363 [==============================] - 18s 46ms/step - loss: 292.8274 - mae: 293.3271 - val_loss: 316.1587 - val_mae: 316.6583\n",
            "Epoch 55/500\n",
            "363/363 [==============================] - 18s 46ms/step - loss: 291.8430 - mae: 292.3426 - val_loss: 316.5822 - val_mae: 317.0818\n",
            "Epoch 56/500\n",
            "363/363 [==============================] - 18s 46ms/step - loss: 291.5652 - mae: 292.0647 - val_loss: 315.6366 - val_mae: 316.1361\n",
            "Epoch 57/500\n",
            "363/363 [==============================] - 17s 46ms/step - loss: 290.5672 - mae: 291.0668 - val_loss: 314.6456 - val_mae: 315.1453\n",
            "Epoch 58/500\n",
            "363/363 [==============================] - 20s 53ms/step - loss: 290.1107 - mae: 290.6104 - val_loss: 314.3575 - val_mae: 314.8571\n",
            "Epoch 59/500\n",
            "363/363 [==============================] - 18s 46ms/step - loss: 290.2124 - mae: 290.7119 - val_loss: 313.6317 - val_mae: 314.1312\n",
            "Epoch 60/500\n",
            "363/363 [==============================] - 18s 46ms/step - loss: 289.2715 - mae: 289.7710 - val_loss: 312.4335 - val_mae: 312.9330\n",
            "Epoch 61/500\n",
            "363/363 [==============================] - 18s 46ms/step - loss: 288.5435 - mae: 289.0430 - val_loss: 311.8909 - val_mae: 312.3905\n",
            "Epoch 62/500\n",
            "363/363 [==============================] - 18s 47ms/step - loss: 287.5327 - mae: 288.0322 - val_loss: 310.9578 - val_mae: 311.4574\n",
            "Epoch 63/500\n",
            "363/363 [==============================] - 18s 46ms/step - loss: 288.0466 - mae: 288.5460 - val_loss: 311.4717 - val_mae: 311.9713\n",
            "Epoch 64/500\n",
            "363/363 [==============================] - 18s 46ms/step - loss: 287.2384 - mae: 287.7380 - val_loss: 310.1087 - val_mae: 310.6084\n",
            "Epoch 65/500\n",
            "363/363 [==============================] - 18s 46ms/step - loss: 287.5051 - mae: 288.0047 - val_loss: 310.2336 - val_mae: 310.7333\n",
            "Epoch 66/500\n",
            "363/363 [==============================] - 17s 46ms/step - loss: 286.3628 - mae: 286.8623 - val_loss: 309.2530 - val_mae: 309.7527\n",
            "Epoch 67/500\n",
            "363/363 [==============================] - 18s 46ms/step - loss: 286.7834 - mae: 287.2830 - val_loss: 313.3860 - val_mae: 313.8858\n",
            "Epoch 68/500\n",
            "363/363 [==============================] - 18s 46ms/step - loss: 286.2545 - mae: 286.7541 - val_loss: 309.2266 - val_mae: 309.7262\n",
            "Epoch 69/500\n",
            "363/363 [==============================] - 18s 46ms/step - loss: 286.1999 - mae: 286.6994 - val_loss: 307.5722 - val_mae: 308.0718\n",
            "Epoch 70/500\n",
            "363/363 [==============================] - 18s 46ms/step - loss: 285.2118 - mae: 285.7113 - val_loss: 307.4906 - val_mae: 307.9903\n",
            "Epoch 71/500\n",
            "363/363 [==============================] - 17s 45ms/step - loss: 283.8617 - mae: 284.3615 - val_loss: 308.2206 - val_mae: 308.7201\n",
            "Epoch 72/500\n",
            "363/363 [==============================] - 18s 46ms/step - loss: 283.7189 - mae: 284.2185 - val_loss: 306.0504 - val_mae: 306.5501\n",
            "Epoch 73/500\n",
            "363/363 [==============================] - 20s 53ms/step - loss: 282.8597 - mae: 283.3595 - val_loss: 305.8087 - val_mae: 306.3084\n",
            "Epoch 74/500\n",
            "363/363 [==============================] - 17s 45ms/step - loss: 282.0573 - mae: 282.5569 - val_loss: 308.5521 - val_mae: 309.0517\n",
            "Epoch 75/500\n",
            "363/363 [==============================] - 17s 46ms/step - loss: 282.2346 - mae: 282.7340 - val_loss: 305.8181 - val_mae: 306.3176\n",
            "Epoch 76/500\n",
            "363/363 [==============================] - 17s 45ms/step - loss: 281.9999 - mae: 282.4995 - val_loss: 303.0716 - val_mae: 303.5712\n",
            "Epoch 77/500\n",
            "363/363 [==============================] - 17s 45ms/step - loss: 280.9170 - mae: 281.4165 - val_loss: 303.5242 - val_mae: 304.0238\n",
            "Epoch 78/500\n",
            "363/363 [==============================] - 17s 46ms/step - loss: 280.5337 - mae: 281.0332 - val_loss: 302.9540 - val_mae: 303.4537\n",
            "Epoch 79/500\n",
            "363/363 [==============================] - 17s 45ms/step - loss: 280.0141 - mae: 280.5137 - val_loss: 301.7543 - val_mae: 302.2539\n",
            "Epoch 80/500\n",
            "363/363 [==============================] - 18s 46ms/step - loss: 279.5565 - mae: 280.0561 - val_loss: 302.8354 - val_mae: 303.3350\n",
            "Epoch 81/500\n",
            "363/363 [==============================] - 17s 45ms/step - loss: 279.2234 - mae: 279.7230 - val_loss: 300.8400 - val_mae: 301.3396\n",
            "Epoch 82/500\n",
            "363/363 [==============================] - 17s 45ms/step - loss: 278.8506 - mae: 279.3502 - val_loss: 301.9169 - val_mae: 302.4165\n",
            "Epoch 83/500\n",
            "363/363 [==============================] - 17s 45ms/step - loss: 278.8289 - mae: 279.3286 - val_loss: 299.9189 - val_mae: 300.4185\n",
            "Epoch 84/500\n",
            "363/363 [==============================] - 17s 45ms/step - loss: 277.8168 - mae: 278.3162 - val_loss: 301.6728 - val_mae: 302.1724\n",
            "Epoch 85/500\n",
            "363/363 [==============================] - 17s 46ms/step - loss: 278.8013 - mae: 279.3009 - val_loss: 300.2646 - val_mae: 300.7642\n",
            "Epoch 86/500\n",
            "363/363 [==============================] - 17s 45ms/step - loss: 276.8310 - mae: 277.3307 - val_loss: 299.4003 - val_mae: 299.8999\n",
            "Epoch 87/500\n",
            "363/363 [==============================] - 17s 45ms/step - loss: 276.4066 - mae: 276.9062 - val_loss: 299.1193 - val_mae: 299.6190\n",
            "Epoch 88/500\n",
            "363/363 [==============================] - 17s 46ms/step - loss: 275.9708 - mae: 276.4702 - val_loss: 298.1107 - val_mae: 298.6103\n",
            "Epoch 89/500\n",
            "363/363 [==============================] - 17s 45ms/step - loss: 275.7954 - mae: 276.2951 - val_loss: 297.4101 - val_mae: 297.9097\n",
            "Epoch 90/500\n",
            "363/363 [==============================] - 17s 45ms/step - loss: 275.1122 - mae: 275.6118 - val_loss: 301.8315 - val_mae: 302.3311\n",
            "Epoch 91/500\n",
            "362/363 [============================>.] - ETA: 0s - loss: 274.7830 - mae: 275.2826\n",
            "MAE of the model < 10% of data scale\n",
            "363/363 [==============================] - 17s 45ms/step - loss: 274.8032 - mae: 275.3028 - val_loss: 295.9212 - val_mae: 296.4207\n"
          ]
        }
      ],
      "source": [
        "tf.keras.backend.set_floatx('float64')\n",
        "history = model.fit(data_x_train, epochs=500, validation_data=data_x_test, callbacks=[callbacks])"
      ]
    },
    {
      "cell_type": "markdown",
      "id": "daa82ddc",
      "metadata": {
        "id": "daa82ddc"
      },
      "source": [
        "### Plot Loss & Mae"
      ]
    },
    {
      "cell_type": "code",
      "execution_count": 16,
      "id": "784ae351",
      "metadata": {
        "colab": {
          "base_uri": "https://localhost:8080/",
          "height": 513
        },
        "id": "784ae351",
        "outputId": "e1a6eed3-76b2-451e-f3fe-46bc506581ee"
      },
      "outputs": [
        {
          "output_type": "display_data",
          "data": {
            "image/png": "[encoded data removed]",
            "text/plain": [
              "<Figure size 1152x576 with 2 Axes>"
            ]
          },
          "metadata": {
            "needs_background": "light"
          }
        }
      ],
      "source": [
        "loss = history.history['loss']\n",
        "val_loss = history.history['val_loss']\n",
        "mae = history.history['mae']\n",
        "val_mae = history.history['val_mae']\n",
        "\n",
        "plt.figure(figsize=(16, 8))\n",
        "\n",
        "plt.subplot(1, 2, 1)\n",
        "plt.title('Loss')\n",
        "plt.xlabel('Epoch')\n",
        "plt.ylabel('Loss')\n",
        "plt.plot(loss, label='Training set')\n",
        "plt.plot(val_loss, label='Test set', linestyle='--')\n",
        "plt.legend()\n",
        "plt.grid(linestyle='--', linewidth=1, alpha=0.5)\n",
        "\n",
        "plt.subplot(1, 2, 2)\n",
        "plt.title('MAE')\n",
        "plt.xlabel('Epoch')\n",
        "plt.ylabel('MAE')\n",
        "plt.plot(mae, label='Training set')\n",
        "plt.plot(val_mae, label='Test set', linestyle='--')\n",
        "plt.legend()\n",
        "plt.grid(linestyle='--', linewidth=1, alpha=0.5)\n",
        "\n",
        "plt.show()"
      ]
    }
  ],
  "metadata": {
    "kernelspec": {
      "display_name": "Python 3 (ipykernel)",
      "language": "python",
      "name": "python3"
    },
    "language_info": {
      "codemirror_mode": {
        "name": "ipython",
        "version": 3
      },
      "file_extension": ".py",
      "mimetype": "text/x-python",
      "name": "python",
      "nbconvert_exporter": "python",
      "pygments_lexer": "ipython3",
      "version": "3.9.7"
    },
    "colab": {
      "name": "Submission 2 - Time Series.ipynb",
      "provenance": []
    },
    "accelerator": "GPU"
  },
  "nbformat": 4,
  "nbformat_minor": 5
}